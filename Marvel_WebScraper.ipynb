{
 "cells": [
  {
   "cell_type": "markdown",
   "metadata": {
    "deletable": false,
    "editable": false,
    "nbgrader": {
     "cell_type": "markdown",
     "checksum": "4e6bdd1df8e0da513df4c79f524007ba",
     "grade": false,
     "grade_id": "cell-aad0d9693d861220",
     "locked": true,
     "schema_version": 3,
     "solution": false,
     "task": false
    }
   },
   "source": [
    "# Assignment 4\n",
    "\n",
    "This notebook contains a set of exercises that will guide you through the different steps of this assignment. The aim of this assignment is to extract data about different characters from Marvel's API in order to build a database that contains information about different comics and stories.\n",
    "\n",
    "<div class=\"alert alert-danger\"><b>Submission deadline:</b> Thursday, January 14, 20:00</div>\n",
    "\n",
    "### Instructions\n",
    "\n",
    "Read carefully the following instructions before starting the exercises.\n",
    "\n",
    "- This notebook is automatically graded. This means that there are several cells embedded into the notebook that take care of checking your code and grading it. It also means that it is important **to follow the instructions for each of the exercises** to make sure that you do everything right.\n",
    "\n",
    "- Write your code in the dedicated cells. You can use as many cells as you like. Just make sure to include all the necessary code **before the corresponding test**.\n",
    "\n",
    "- The tests for the introductory exercises will be open for you to see. This will help you understand how the pipeline works and check that you got the basics right. You can run these checks as many times as you want, **as long as you don't modify them**.  \n",
    "\n",
    "- The tests for the graded exercises will remain hidden. It is important that you **do not write any code, nor do you remove the cells left in blank** for this purpose. \n",
    "\n",
    "- Remember that tests look for specific variable and objects. This means that in order to receive the points for each exercise, you need to **create those objects**.\n",
    "\n",
    "Before moving on, please run the following cell. You only need run it once in order to install the ```nose``` library."
   ]
  },
  {
   "cell_type": "code",
   "execution_count": 1,
   "metadata": {},
   "outputs": [
    {
     "name": "stdout",
     "output_type": "stream",
     "text": [
      "Requirement already satisfied: nose in ./anaconda3/lib/python3.7/site-packages (1.3.7)\n",
      "Note: you may need to restart the kernel to use updated packages.\n"
     ]
    }
   ],
   "source": [
    "pip install nose"
   ]
  },
  {
   "cell_type": "markdown",
   "metadata": {},
   "source": [
    "## Getting started\n",
    "\n",
    "The [Marvel Comics API](https://developer.marvel.com/) allows developers everywhere to access information about Marvel's vast library of comics—from what's coming up, to 70 years ago. Through this API you'll be able to access six different ypes of resources, including comics, series, stories, events, creators and characters. You can read all about the different endpoints available by taking a look at the [documentation](https://developer.marvel.com/docs).\n",
    "\n",
    "<img src='https://www.dropbox.com/s/fizr5sip3f55nhu/marvel.png?raw=1' width=1000>\n",
    "\n",
    "The following instructions will guide you through the steps to create an account and retrieve your API key to complete the authentication process. Still, it may be a good idea to quickly read the [general information](https://developer.marvel.com/documentation/generalinfo) before getting started.\n",
    "\n",
    "<img src='https://www.dropbox.com/s/lb1b2uyiig5hw2l/signin.png?raw=1' width=500>\n",
    "\n",
    "Let's begin by creating an account. Go to the <i>Sign in</i> link on the upper left of the page and fill in the information to create your account. You can use any email you want, as long as it works. Once you have completed the process at the website, make sure you check your inbox and confirm your email address.\n",
    "\n",
    "<img src='https://www.dropbox.com/s/c0ysk8sj0o0mpbt/accept.png?raw=1' width=600>\n",
    "\n",
    "You'll now have to go back to the API's webpage, log in and click on <i>Getting started</i>. The first time you log in, the webpage will ask you to accept the terms and conditions in order to use the API. Do so by checking the accept box at the bottom of the page.\n",
    "\n",
    "<img src='https://www.dropbox.com/s/a9fd0cgzn1imcw6/keys.png?raw=1' width=700>\n",
    "\n",
    "Once you accept the terms, the website will redirect you to your account settings and you'll be able to retrieve your keys.\n",
    "\n",
    "<div class=\"alert alert-info\">Create two new variables, <i>privatekey</i> and <i>privatekey</i>, that store your private and your public keys, respectively</div>\n",
    "\n",
    "<div class=\"alert alert-warning\">Notice that there is a maximum number of requests that you are allowed to make per day with these keys. Take that into consideration to make sure you can finish the assignment in time.</div>"
   ]
  },
  {
   "cell_type": "code",
   "execution_count": 2,
   "metadata": {
    "deletable": false,
    "nbgrader": {
     "cell_type": "code",
     "checksum": "abdbc4f2062cbfa6a4e58e11f5fd6599",
     "grade": false,
     "grade_id": "cell-1f4bc4a7b868ee40",
     "locked": false,
     "schema_version": 3,
     "solution": true,
     "task": false
    }
   },
   "outputs": [],
   "source": [
    "privatekey = '406b15d3da92bca586e9edf59940a3aaa6885955'\n",
    "publickey = '04b31c1500365f7787d769c8eb410d62'"
   ]
  },
  {
   "cell_type": "markdown",
   "metadata": {},
   "source": [
    "Great! Now that you have your keys, let's take a look at how the API is built in order to make your first request.\n",
    "\n",
    "## Making your first request\n",
    "\n",
    "In this assignment we will only make requests to the public endpoints. The whole list is available at the [docs](https://developer.marvel.com/docs). We'll begin by directing our request to the ```characters``` endpoint in order to retrieve information about a single character of your choice. The correspoding endpoint label has been copied for you below, together with the base URL for all the endpoints in Marvel's API."
   ]
  },
  {
   "cell_type": "code",
   "execution_count": 3,
   "metadata": {},
   "outputs": [],
   "source": [
    "base_url = 'https://gateway.marvel.com'\n",
    "endpoint = '/v1/public/characters'"
   ]
  },
  {
   "cell_type": "markdown",
   "metadata": {
    "deletable": false,
    "editable": false,
    "nbgrader": {
     "cell_type": "markdown",
     "checksum": "94ca3f3078972e53a36deb093f928d0e",
     "grade": false,
     "grade_id": "cell-c2fe0c26e715cf13",
     "locked": true,
     "schema_version": 3,
     "solution": false,
     "task": false
    }
   },
   "source": [
    "<div class=\"alert alert-info\">Write the code to obtain the full url for the <i>characters</i> endpoint by concatenating the two strings above. Store the result in a new variable called <i>url</i>.</div>"
   ]
  },
  {
   "cell_type": "code",
   "execution_count": 4,
   "metadata": {
    "deletable": false,
    "nbgrader": {
     "cell_type": "code",
     "checksum": "6f8aadc8c4409abbb8ccb8b9de193612",
     "grade": false,
     "grade_id": "cell-fcc420b750e7e66e",
     "locked": false,
     "schema_version": 3,
     "solution": true,
     "task": false
    }
   },
   "outputs": [],
   "source": [
    "url = base_url + endpoint"
   ]
  },
  {
   "cell_type": "markdown",
   "metadata": {
    "deletable": false,
    "editable": false,
    "nbgrader": {
     "cell_type": "markdown",
     "checksum": "080c798dc000343784b8a1ba33857550",
     "grade": false,
     "grade_id": "cell-e46a235df6c24792",
     "locked": true,
     "schema_version": 3,
     "solution": false,
     "task": false
    }
   },
   "source": [
    "If you check the docs once again, you'll see that the ```characters``` endpoint allows you to retrieve information about characters by providing different parameters, including their name, the comics or series twhere they appear, etc.\n",
    "\n",
    "<img src='https://www.dropbox.com/s/phrm53wa066cnvu/characters.png?raw=1' width=500>\n",
    "\n",
    "We will begin by retrieving information about a single character by ```name```. You can access the list of all the Marvel characters through the following [link](https://www.marvel.com/characters). \n",
    "\n",
    "<div class=\"alert alert-info\">Create a new variable called <i>name</i> that stores the name of your character of choice in string form.</div>"
   ]
  },
  {
   "cell_type": "code",
   "execution_count": 5,
   "metadata": {
    "deletable": false,
    "nbgrader": {
     "cell_type": "code",
     "checksum": "a2ef09b8ddc0e91f4043834e325d4400",
     "grade": false,
     "grade_id": "cell-4a791f18f4647bc4",
     "locked": false,
     "schema_version": 3,
     "solution": true,
     "task": false
    }
   },
   "outputs": [],
   "source": [
    "name = 'Iron Man'"
   ]
  },
  {
   "cell_type": "markdown",
   "metadata": {
    "deletable": false,
    "editable": false,
    "nbgrader": {
     "cell_type": "markdown",
     "checksum": "6b10ecf160683b76b01b31c49d9ff3b1",
     "grade": false,
     "grade_id": "cell-768d6409e4a5f55b",
     "locked": true,
     "schema_version": 3,
     "solution": false,
     "task": false
    }
   },
   "source": [
    "This means that the body of your request should include the name above as a parameter. Note, however, that thsi API expects you to include some additional information too in order to build a successful request. In particular, Marvel's API expects you to sign your requests. You can find instructions on how to do that in this [link](https://developer.marvel.com/documentation/authorization).\n",
    "\n",
    "Apart from the parameters of your query, the API expects you to fill in the values for three additional parameters in all your requests:\n",
    "\n",
    "- **apikey**. This parameter takes your *public* key.\n",
    "- **ts**. This parameter takes a timestamp in string form or any other long string which can change on a request-by-request basis.\n",
    "- **hash**. This parameter takes a MD5 hash of ts+privatekey+publickey.\n",
    "\n",
    "Let's take a few minutes to see how to obtain the last two. Remember that you'll need to include all three parameters in all your requests.\n",
    "\n",
    "#### Generating a timestamp\n",
    "\n",
    "We are going to use the ```time``` library to obtain a timestamp for our every request. This library has a function called ```time``` that returns the current time. We can convert this output to a string to used it as our timestamp."
   ]
  },
  {
   "cell_type": "code",
   "execution_count": 6,
   "metadata": {},
   "outputs": [],
   "source": [
    "import time\n",
    "\n",
    "ts = str(time.time())"
   ]
  },
  {
   "cell_type": "markdown",
   "metadata": {
    "deletable": false,
    "editable": false,
    "nbgrader": {
     "cell_type": "markdown",
     "checksum": "401468dc3799987e762d53f41138765a",
     "grade": false,
     "grade_id": "cell-961d9df2337cbaf6",
     "locked": true,
     "schema_version": 3,
     "solution": false,
     "task": false
    }
   },
   "source": [
    "#### Generating a MD5 hash\n",
    "\n",
    "In order to obtain the hash, we'll use the ```hashlib``` library. The hash has to be applied over a code that corresponds to the concatenation of ts+privatekey+publickey. You can obtain it by running the cell below. Notice that the output is a long alphanumeric string."
   ]
  },
  {
   "cell_type": "code",
   "execution_count": 7,
   "metadata": {},
   "outputs": [],
   "source": [
    "import hashlib\n",
    "\n",
    "code = ts+privatekey+publickey\n",
    "md5hash = hashlib.md5(code.encode('utf-8')).hexdigest()"
   ]
  },
  {
   "cell_type": "markdown",
   "metadata": {
    "deletable": false,
    "editable": false,
    "nbgrader": {
     "cell_type": "markdown",
     "checksum": "f2629554cee07e16c84546341dc7cd32",
     "grade": false,
     "grade_id": "cell-bbb032b9b90a7e52",
     "locked": true,
     "schema_version": 3,
     "solution": false,
     "task": false
    }
   },
   "source": [
    "You can now fill in the body of your request using all the ingredients above and send to it the defined url.\n",
    "\n",
    "<div class=\"alert alert-info\">Write the code to make your request. Remember that the body of request should include the values for <i>apikey</i>, <i>ts</i> and <i>hash</i>, as well as that of the <i>name</i> parameter. Store the response in <b>json</b> format in a new variable called <i>response</i>.</div>"
   ]
  },
  {
   "cell_type": "code",
   "execution_count": 8,
   "metadata": {
    "deletable": false,
    "nbgrader": {
     "cell_type": "code",
     "checksum": "91d14e6d8e155aab158823b86d02f914",
     "grade": false,
     "grade_id": "cell-a2ec02ce69a928ed",
     "locked": false,
     "schema_version": 3,
     "solution": true,
     "task": false
    }
   },
   "outputs": [],
   "source": [
    "import requests as rq\n",
    "\n",
    "response = rq.get(url, params={'apikey': publickey, 'ts': ts, 'hash': md5hash, 'name': name}).json()"
   ]
  },
  {
   "cell_type": "markdown",
   "metadata": {
    "deletable": false,
    "editable": false,
    "nbgrader": {
     "cell_type": "markdown",
     "checksum": "acdcbab4a7f066ce95436dad8cd1ea7e",
     "grade": false,
     "grade_id": "cell-bfdfd2b1ec146839",
     "locked": true,
     "schema_version": 3,
     "solution": false,
     "task": false
    }
   },
   "source": [
    "You can run the following cell to check that you did everything right. You can run it as many times as you want, as long as you **don't modify it**."
   ]
  },
  {
   "cell_type": "code",
   "execution_count": 9,
   "metadata": {
    "deletable": false,
    "editable": false,
    "nbgrader": {
     "cell_type": "code",
     "checksum": "0fef4d651c93d463968e12b30362f590",
     "grade": true,
     "grade_id": "cell-f22433e805d27e84",
     "locked": true,
     "points": 0,
     "schema_version": 3,
     "solution": false,
     "task": false
    }
   },
   "outputs": [],
   "source": [
    "from nose.tools import assert_true, assert_is_instance, assert_equal\n",
    "\n",
    "# check that you created the variable response\n",
    "assert_true(response)\n",
    "\n",
    "# check that response is of correct type\n",
    "assert_is_instance(response, dict)\n",
    "\n",
    "# check that response has correct content\n",
    "assert_equal(response['data']['results'][0]['name'].upper(), name.upper())"
   ]
  },
  {
   "cell_type": "markdown",
   "metadata": {
    "deletable": false,
    "editable": false,
    "nbgrader": {
     "cell_type": "markdown",
     "checksum": "0507082f9683d4ed67539391a4dabe63",
     "grade": false,
     "grade_id": "cell-caa7fb817deaa928",
     "locked": true,
     "schema_version": 3,
     "solution": false,
     "task": false
    }
   },
   "source": [
    "Take your time to investigate how the response dictionary is organized. Take a look at the different keys and try to understand what they each refer to.\n",
    "\n",
    "<div class=\"alert alert-info\">Write the code to identify the full url address for your character's <i>wiki</i>. Store it in a new variable called <i>url_wiki</i>.</div>"
   ]
  },
  {
   "cell_type": "code",
   "execution_count": 10,
   "metadata": {
    "deletable": false,
    "nbgrader": {
     "cell_type": "code",
     "checksum": "c4ba02001d93d321b673f79049884d98",
     "grade": false,
     "grade_id": "cell-39e2e51251b9b494",
     "locked": false,
     "schema_version": 3,
     "solution": true,
     "task": false
    }
   },
   "outputs": [],
   "source": [
    "url_wiki = response['data']['results'][0]['urls'][1]['url']"
   ]
  },
  {
   "cell_type": "markdown",
   "metadata": {},
   "source": [
    "## Poking around\n",
    "\n",
    "Copy-paste the url above to your browser and take a look at the webpage. It contains a general profile for your character of choice, as well as a bio and some additional information. By default, this page shows a general ```OVERVIEW```, a ```IN COMICS PROFILE``` and a more specific ```IN COMICS FULL REPORT```. \n",
    "\n",
    "<img src='https://www.dropbox.com/s/5wxjoqwtumd2c7k/thing.png?raw=1' width=1000>\n",
    "\n",
    "If your character happens to be so popular that he or she or it has been portrayed in a movie, you'll also get access to the ```ON SCREEN PROFILE``` and to the ```ON SCREEN FULL REPORT```. \n",
    "\n",
    "<img src='https://www.dropbox.com/s/ej2bno1dslpjkp9/blackwidow.png?raw=1' width=1000>\n",
    "\n",
    "Since not all characters include these last two piece of information, let's focus on the other elements. In particular, we are interested in retrieving part of the information contained in the ```IN COMICS FULL REPORT``` tab. \n",
    "\n",
    "<div class=\"alert alert-info\"><b>Exercise 1 </b>Write the code to complete function <i>get_soup</i>. This function should take a url in <i>string</i> form as input and return a <i>BeautifulSoup</i> object with the corresponding HTML code as output. The necessary libraries have already been imported for you.</div>\n",
    "\n",
    "<div class=\"alert alert-warning\">Make sure that the output of your function is different for different urls.</div>"
   ]
  },
  {
   "cell_type": "code",
   "execution_count": 11,
   "metadata": {
    "deletable": false,
    "nbgrader": {
     "cell_type": "code",
     "checksum": "548b6835892b611244b469f8e3280d1f",
     "grade": false,
     "grade_id": "cell-4f329d4ad9358f83",
     "locked": false,
     "schema_version": 3,
     "solution": true,
     "task": false
    }
   },
   "outputs": [],
   "source": [
    "import requests\n",
    "import bs4\n",
    "\n",
    "def get_soup(url):\n",
    "    response = rq.get(url)\n",
    "    return bs4.BeautifulSoup(response.text, 'html.parser')"
   ]
  },
  {
   "cell_type": "markdown",
   "metadata": {
    "deletable": false,
    "editable": false,
    "nbgrader": {
     "cell_type": "markdown",
     "checksum": "b061752950ee2beb25c67b94778307f4",
     "grade": false,
     "grade_id": "cell-2dc3ec7ae1339f30",
     "locked": true,
     "schema_version": 3,
     "solution": false,
     "task": false
    }
   },
   "source": [
    "The following cell runs the checks on your code. Please **don't write any code here**. Just leave it as it is."
   ]
  },
  {
   "cell_type": "code",
   "execution_count": 12,
   "metadata": {
    "deletable": false,
    "editable": false,
    "nbgrader": {
     "cell_type": "code",
     "checksum": "e157a850613e4f23ecd1d59f12928961",
     "grade": true,
     "grade_id": "ex1_1",
     "locked": true,
     "points": 0.1,
     "schema_version": 3,
     "solution": false,
     "task": false
    }
   },
   "outputs": [],
   "source": [
    "# LEAVE BLANK"
   ]
  },
  {
   "cell_type": "code",
   "execution_count": 13,
   "metadata": {
    "deletable": false,
    "editable": false,
    "nbgrader": {
     "cell_type": "code",
     "checksum": "aad29f90b983f9dd7b587399c0a95083",
     "grade": true,
     "grade_id": "ex1_2",
     "locked": true,
     "points": 0.15,
     "schema_version": 3,
     "solution": false,
     "task": false
    }
   },
   "outputs": [],
   "source": [
    "# LEAVE BLANK"
   ]
  },
  {
   "cell_type": "markdown",
   "metadata": {
    "deletable": false,
    "editable": false,
    "nbgrader": {
     "cell_type": "markdown",
     "checksum": "948cc5b1c4261ff3c58ce8cbaae3e3d6",
     "grade": false,
     "grade_id": "cell-d5ad56e0e28eac8f",
     "locked": true,
     "schema_version": 3,
     "solution": false,
     "task": false
    }
   },
   "source": [
    "Now that we can retrieve the code, let's identify the tag that corresponds to the ```IN COMICS FULL REPORT``` and retrieve the link\n",
    "\n",
    "<div class=\"alert alert-info\"><b>Exercise 2 </b>Write the code to complete function <i>get_comics_report</i>. This function should take a BeautifulSoup object with the code for a website as input and return <b>full url</b> for the <i>IN COMICS FULL REPORT</i> tab in string form as output. "
   ]
  },
  {
   "cell_type": "code",
   "execution_count": 14,
   "metadata": {
    "deletable": false,
    "nbgrader": {
     "cell_type": "code",
     "checksum": "e746dc3636a28a7cb4619c8589bc8d7a",
     "grade": false,
     "grade_id": "cell-934b484634e932e8",
     "locked": false,
     "schema_version": 3,
     "solution": true,
     "task": false
    }
   },
   "outputs": [],
   "source": [
    "def get_comics_report(soup):\n",
    "    x = 'https://www.marvel.com'\n",
    "    for i in soup.find_all('li', {'class': 'masthead__tabs__li'}):\n",
    "        if 'In Comics Full Report' in i.text:\n",
    "            return x + i.find('a')['href']\n",
    "    else:\n",
    "        return None"
   ]
  },
  {
   "cell_type": "markdown",
   "metadata": {
    "deletable": false,
    "editable": false,
    "nbgrader": {
     "cell_type": "markdown",
     "checksum": "2f603e50eca2e731a830d10311beb81d",
     "grade": false,
     "grade_id": "cell-2dc3ecae1339f30",
     "locked": true,
     "schema_version": 3,
     "solution": false,
     "task": false
    }
   },
   "source": [
    "The following cell runs the checks on your code. Please **don't write any code here**. Just leave it as it is."
   ]
  },
  {
   "cell_type": "code",
   "execution_count": 15,
   "metadata": {
    "deletable": false,
    "editable": false,
    "nbgrader": {
     "cell_type": "code",
     "checksum": "d8e932dc7d96887397c2818daf2ed6b9",
     "grade": true,
     "grade_id": "ex2_1",
     "locked": true,
     "points": 0.25,
     "schema_version": 3,
     "solution": false,
     "task": false
    }
   },
   "outputs": [],
   "source": [
    "# LEAVE BLANK"
   ]
  },
  {
   "cell_type": "code",
   "execution_count": 16,
   "metadata": {
    "deletable": false,
    "editable": false,
    "nbgrader": {
     "cell_type": "code",
     "checksum": "706f5474639c55ebff87adc0c960be29",
     "grade": true,
     "grade_id": "ex2_2",
     "locked": true,
     "points": 0.5,
     "schema_version": 3,
     "solution": false,
     "task": false
    }
   },
   "outputs": [],
   "source": [
    "# LEAVE BLANK"
   ]
  },
  {
   "cell_type": "markdown",
   "metadata": {
    "deletable": false,
    "editable": false,
    "nbgrader": {
     "cell_type": "markdown",
     "checksum": "9c21693999be29612796bcafd3a57ee8",
     "grade": false,
     "grade_id": "cell-9e8cbc3e1bec205d",
     "locked": true,
     "schema_version": 3,
     "solution": false,
     "task": false
    }
   },
   "source": [
    "When accessing the ```IN COMICS FULL REPORT``` for a character, we get information about different attributes, including the height, the weight, the gender, etc. Let's write the code to extract this information.\n",
    "\n",
    "<div class=\"alert alert-info\"><b>Exercise 3 </b>Write the code to complete functions <i>get_height</i>, <i>get_weight</i>, <i>get_gender</i>, <i>get_eyecolor</i> and <i>get_haircolor</i>. These function should all take a BeautifulSoup object with the code for a website as input and return, respectively, the height (in <b>float</b> form), the weight (in <b>float</b> form), the gender (in <b>str</b> form), the eyecolor (in <b>str</b> form) and the haircolor (in <b>str</b> form) as output. In all cases, only the number should be returned, nothing else. If no information is provided for any of these items, then the corresponding function should return a <b>None</b>.</div>\n",
    "\n",
    "<div class=\"alert alert-warning\">When information about different characters is present, return only that corresponding to the first. </div>\n",
    "\n",
    "<div class=\"alert alert-warning\">For the case of the height, when decimal values are given in inches, i.e. 6'6\", return only the first digit, i.e. 6.</div>\n",
    "\n",
    "<div class=\"alert alert-warning\">For the case of the eye and haircolors, return the whole string of information, i.e. \"White (formerly black)\".</div>"
   ]
  },
  {
   "cell_type": "code",
   "execution_count": 17,
   "metadata": {
    "deletable": false,
    "nbgrader": {
     "cell_type": "code",
     "checksum": "4af11cba703df1670dc9fbed8eb7e95c",
     "grade": false,
     "grade_id": "cell-462b0d042dc6db8e",
     "locked": false,
     "schema_version": 3,
     "solution": true,
     "task": false
    }
   },
   "outputs": [],
   "source": [
    "def get_height(soup):\n",
    "    list1 = []\n",
    "    for i in soup.find_all('div', {'class': 'bioheader__stats'}):\n",
    "        if 'height' in i.text:\n",
    "            if i.text.isalpha() == True:\n",
    "                return None\n",
    "            else:\n",
    "                for s in i.text:\n",
    "                    if s.isdigit() == True:\n",
    "                        list1.append(s)\n",
    "                        return float(list1[0])\n",
    "        else:\n",
    "            return None"
   ]
  },
  {
   "cell_type": "code",
   "execution_count": 18,
   "metadata": {
    "deletable": false,
    "nbgrader": {
     "cell_type": "code",
     "checksum": "9ad9c841c3b87fa7da877902957e39b5",
     "grade": false,
     "grade_id": "cell-b7355afd3de62c1a",
     "locked": false,
     "schema_version": 3,
     "solution": true,
     "task": false
    }
   },
   "outputs": [],
   "source": [
    "def get_weight(soup):\n",
    "    list2 = []\n",
    "    for i in soup.find_all('div', {'class': 'bioheader__stats'}):\n",
    "        if 'weight' in i.text:\n",
    "            if i.text.isalpha() == True:\n",
    "                return None\n",
    "            else:\n",
    "                for q in i.text.split(';')[0]:\n",
    "                    if q.isdigit() == True:\n",
    "                        list2.append(q)\n",
    "                out_str = \"\"\n",
    "                out_str = out_str.join(list2)\n",
    "                return float(out_str)"
   ]
  },
  {
   "cell_type": "code",
   "execution_count": 19,
   "metadata": {
    "deletable": false,
    "nbgrader": {
     "cell_type": "code",
     "checksum": "f03d5abda5e3d97d51a26936c436b7b2",
     "grade": false,
     "grade_id": "cell-e12f17f987502632",
     "locked": false,
     "schema_version": 3,
     "solution": true,
     "task": false
    }
   },
   "outputs": [],
   "source": [
    "def get_gender(soup):\n",
    "    list3 = []\n",
    "    for w in (soup.find_all('div', {'class':'bioheader__stats'})):\n",
    "        if 'gender' in w.text:\n",
    "            list3.append(w.text)\n",
    "    if len(list3) > 0:\n",
    "        return list3[0].replace('gender','')\n",
    "    else:\n",
    "        return None"
   ]
  },
  {
   "cell_type": "code",
   "execution_count": 20,
   "metadata": {
    "deletable": false,
    "nbgrader": {
     "cell_type": "code",
     "checksum": "367c38de3250618f21334ad674de4eaf",
     "grade": false,
     "grade_id": "cell-c6a8beeb285e51e6",
     "locked": false,
     "schema_version": 3,
     "solution": true,
     "task": false
    }
   },
   "outputs": [],
   "source": [
    "def get_eyecolor(soup):\n",
    "    list4 = []\n",
    "    for u in (soup.find_all('div', {'class': 'bioheader__stats'})):\n",
    "        if 'eyes' in u.text:\n",
    "            list4.append(u.text)\n",
    "    if len(list4) > 0:\n",
    "        return list4[0].replace('eyes','')\n",
    "    else:\n",
    "        return None "
   ]
  },
  {
   "cell_type": "code",
   "execution_count": 21,
   "metadata": {
    "deletable": false,
    "nbgrader": {
     "cell_type": "code",
     "checksum": "d0a7720357e60c0211be0cf9026ac0e5",
     "grade": false,
     "grade_id": "cell-ff345892ddc8b343",
     "locked": false,
     "schema_version": 3,
     "solution": true,
     "task": false
    }
   },
   "outputs": [],
   "source": [
    "def get_haircolor(soup):\n",
    "    list5 = []\n",
    "    for n in (soup.find_all('div', {'class': 'bioheader__stats'})):\n",
    "        if 'hair' in n.text:\n",
    "            list5.append(n.text)\n",
    "    if len(list5) > 0:\n",
    "        return list5[0].replace('hair','')\n",
    "    else:\n",
    "        return None "
   ]
  },
  {
   "cell_type": "markdown",
   "metadata": {
    "deletable": false,
    "editable": false,
    "nbgrader": {
     "cell_type": "markdown",
     "checksum": "4eb5019a51df760f190683b7fdd8d234",
     "grade": false,
     "grade_id": "cell-de70564d837052dc",
     "locked": true,
     "schema_version": 3,
     "solution": false,
     "task": false
    }
   },
   "source": [
    "The following cells run the checks on your code. Please **don't write any code here**. Just leave them as they are."
   ]
  },
  {
   "cell_type": "code",
   "execution_count": 22,
   "metadata": {
    "deletable": false,
    "editable": false,
    "nbgrader": {
     "cell_type": "code",
     "checksum": "99a1bfb62dc4ccc5d7efdd96bfef814d",
     "grade": true,
     "grade_id": "ex3_height_1",
     "locked": true,
     "points": 0.1,
     "schema_version": 3,
     "solution": false,
     "task": false
    }
   },
   "outputs": [],
   "source": [
    "# LEAVE BLANK"
   ]
  },
  {
   "cell_type": "code",
   "execution_count": 23,
   "metadata": {
    "deletable": false,
    "editable": false,
    "nbgrader": {
     "cell_type": "code",
     "checksum": "db40a81b95a8cdb2c7a1e762560e9ceb",
     "grade": true,
     "grade_id": "ex_height_2",
     "locked": true,
     "points": 0.9,
     "schema_version": 3,
     "solution": false,
     "task": false
    }
   },
   "outputs": [],
   "source": [
    "# LEAVE BLANK"
   ]
  },
  {
   "cell_type": "code",
   "execution_count": 24,
   "metadata": {
    "deletable": false,
    "editable": false,
    "nbgrader": {
     "cell_type": "code",
     "checksum": "84746bc3aa155f050f2c022e194be00f",
     "grade": true,
     "grade_id": "ex3_weight_1",
     "locked": true,
     "points": 0.1,
     "schema_version": 3,
     "solution": false,
     "task": false
    }
   },
   "outputs": [],
   "source": [
    "# LEAVE BLANK"
   ]
  },
  {
   "cell_type": "code",
   "execution_count": 25,
   "metadata": {
    "deletable": false,
    "editable": false,
    "nbgrader": {
     "cell_type": "code",
     "checksum": "7541bc739a58dfc6a9849ac0d65c4801",
     "grade": true,
     "grade_id": "ex3_weight_2",
     "locked": true,
     "points": 0.65,
     "schema_version": 3,
     "solution": false,
     "task": false
    }
   },
   "outputs": [],
   "source": [
    "# LEAVE BLANK"
   ]
  },
  {
   "cell_type": "code",
   "execution_count": 26,
   "metadata": {
    "deletable": false,
    "editable": false,
    "nbgrader": {
     "cell_type": "code",
     "checksum": "4fca9bc86ee65760492385161ded79ae",
     "grade": true,
     "grade_id": "ex3_gender_1",
     "locked": true,
     "points": 0.1,
     "schema_version": 3,
     "solution": false,
     "task": false
    }
   },
   "outputs": [],
   "source": [
    "# LEAVE BLANK"
   ]
  },
  {
   "cell_type": "code",
   "execution_count": 27,
   "metadata": {
    "deletable": false,
    "editable": false,
    "nbgrader": {
     "cell_type": "code",
     "checksum": "90f5b8d8bf99172bac6c3dedb8050e54",
     "grade": true,
     "grade_id": "ex3_gender_2",
     "locked": true,
     "points": 0.15,
     "schema_version": 3,
     "solution": false,
     "task": false
    }
   },
   "outputs": [],
   "source": [
    "# LEAVE BLANK"
   ]
  },
  {
   "cell_type": "code",
   "execution_count": 28,
   "metadata": {
    "deletable": false,
    "editable": false,
    "nbgrader": {
     "cell_type": "code",
     "checksum": "26a50a50a66b4aeffdc2c34d877189b3",
     "grade": true,
     "grade_id": "ex3_eyecolor_1",
     "locked": true,
     "points": 0.1,
     "schema_version": 3,
     "solution": false,
     "task": false
    }
   },
   "outputs": [],
   "source": [
    "# LEAVE BLANK"
   ]
  },
  {
   "cell_type": "code",
   "execution_count": 29,
   "metadata": {
    "deletable": false,
    "editable": false,
    "nbgrader": {
     "cell_type": "code",
     "checksum": "c50f1ab04e538ecf30bd6efb50d8decf",
     "grade": true,
     "grade_id": "ex3_eyecolor_2",
     "locked": true,
     "points": 0.4,
     "schema_version": 3,
     "solution": false,
     "task": false
    }
   },
   "outputs": [],
   "source": [
    "# LEAVE BLANK"
   ]
  },
  {
   "cell_type": "code",
   "execution_count": 30,
   "metadata": {
    "deletable": false,
    "editable": false,
    "nbgrader": {
     "cell_type": "code",
     "checksum": "df57f161cda4e6b8c3d63d8b00b11e4c",
     "grade": true,
     "grade_id": "ex3_haircolor_1",
     "locked": true,
     "points": 0.1,
     "schema_version": 3,
     "solution": false,
     "task": false
    }
   },
   "outputs": [],
   "source": [
    "# LEAVE BLANK"
   ]
  },
  {
   "cell_type": "code",
   "execution_count": 31,
   "metadata": {
    "deletable": false,
    "editable": false,
    "nbgrader": {
     "cell_type": "code",
     "checksum": "0813b1f353f1dd82e638a02e6dcacefa",
     "grade": true,
     "grade_id": "ex3_haircolor_2",
     "locked": true,
     "points": 0.4,
     "schema_version": 3,
     "solution": false,
     "task": false
    }
   },
   "outputs": [],
   "source": [
    "# LEAVE BLANK"
   ]
  },
  {
   "cell_type": "markdown",
   "metadata": {
    "deletable": false,
    "editable": false,
    "nbgrader": {
     "cell_type": "markdown",
     "checksum": "e3cee1b569b514804c524d8824401f50",
     "grade": false,
     "grade_id": "cell-95e0d85436a3ec44",
     "locked": true,
     "schema_version": 3,
     "solution": false,
     "task": false
    }
   },
   "source": [
    "In addition to the above, let's also extract information regarding the group affiliation for a given character.\n",
    "\n",
    "<div class=\"alert alert-info\"><b>Exercise 4 </b>Write the code to complete functions <i>get_group_affiliation</i> and <i>get_groups</i>. The first function should take a BeautifulSoup object with the code for a character report website as input and return a <b>list</b> with all the different affiliations as output. In cases where a single affiliation is provided, the function should return a list with a single element. In cases where no affiliation is provided, the function should return a <b>None</b>. The second function should take a BeautifulSoup object with the code for a character report website as input and return an <b>int</b> with the number of groups the given character is affiliated to. This function <b>should call</b> your previous function and extract the number from the returned list. If the value returned by <i>get_group_affiliation</i> is a <b>None</b>, <i>get_groups</i> should return a 0.</div>"
   ]
  },
  {
   "cell_type": "code",
   "execution_count": 32,
   "metadata": {
    "deletable": false,
    "nbgrader": {
     "cell_type": "code",
     "checksum": "2feb83111eacb35b6ed82475ed11d7ff",
     "grade": false,
     "grade_id": "cell-569fade23e781564",
     "locked": false,
     "schema_version": 3,
     "solution": true,
     "task": false
    }
   },
   "outputs": [],
   "source": [
    "def get_group_affiliation(soup):\n",
    "    group_affiliations = []\n",
    "    for g in soup.find_all('li', {'class':'railBioInfo__Item'}):\n",
    "        if 'Group' in g.text:\n",
    "            for t in g.find_all('li'):\n",
    "                group_affiliations.append(t.text)\n",
    "            return group_affiliations"
   ]
  },
  {
   "cell_type": "code",
   "execution_count": 33,
   "metadata": {
    "deletable": false,
    "nbgrader": {
     "cell_type": "code",
     "checksum": "769f8c3389e98633adfa13a4c870aba7",
     "grade": false,
     "grade_id": "cell-34838ca6bd2974c7",
     "locked": false,
     "schema_version": 3,
     "solution": true,
     "task": false
    }
   },
   "outputs": [],
   "source": [
    "def get_groups(soup):\n",
    "    if get_group_affiliation(soup) == None:\n",
    "        return 0\n",
    "    else:\n",
    "        return len(get_group_affiliation(soup))"
   ]
  },
  {
   "cell_type": "markdown",
   "metadata": {
    "deletable": false,
    "editable": false,
    "nbgrader": {
     "cell_type": "markdown",
     "checksum": "90b32fb7e7368645019bdc7920a59931",
     "grade": false,
     "grade_id": "cell-63f37d0350e43552",
     "locked": true,
     "schema_version": 3,
     "solution": false,
     "task": false
    }
   },
   "source": [
    "The following cells run the checks on your code. Please **don't write any code here**. Just leave them as they are."
   ]
  },
  {
   "cell_type": "code",
   "execution_count": 34,
   "metadata": {
    "deletable": false,
    "editable": false,
    "nbgrader": {
     "cell_type": "code",
     "checksum": "763cfcc7e4515b8edc473a31a5aa2d08",
     "grade": true,
     "grade_id": "ex4_1",
     "locked": true,
     "points": 0.1,
     "schema_version": 3,
     "solution": false,
     "task": false
    }
   },
   "outputs": [],
   "source": [
    "# LEAVE BLANK"
   ]
  },
  {
   "cell_type": "code",
   "execution_count": 35,
   "metadata": {
    "deletable": false,
    "editable": false,
    "nbgrader": {
     "cell_type": "code",
     "checksum": "170a2b94d18e17533bc1ed056fa9d268",
     "grade": true,
     "grade_id": "ex4_2",
     "locked": true,
     "points": 0.3,
     "schema_version": 3,
     "solution": false,
     "task": false
    }
   },
   "outputs": [],
   "source": [
    "# LEAVE BLANK"
   ]
  },
  {
   "cell_type": "code",
   "execution_count": 36,
   "metadata": {
    "deletable": false,
    "editable": false,
    "nbgrader": {
     "cell_type": "code",
     "checksum": "8d4ee8334c7bf7e41a2c292de0c20ebf",
     "grade": true,
     "grade_id": "ex4_3",
     "locked": true,
     "points": 0.1,
     "schema_version": 3,
     "solution": false,
     "task": false
    }
   },
   "outputs": [],
   "source": [
    "# LEAVE BLANK"
   ]
  },
  {
   "cell_type": "code",
   "execution_count": 37,
   "metadata": {
    "deletable": false,
    "editable": false,
    "nbgrader": {
     "cell_type": "code",
     "checksum": "824dd243f5834af9c036333c9dc7dd01",
     "grade": true,
     "grade_id": "ex4_4",
     "locked": true,
     "points": 0.25,
     "schema_version": 3,
     "solution": false,
     "task": false
    }
   },
   "outputs": [],
   "source": [
    "# LEAVE BLANK"
   ]
  },
  {
   "cell_type": "code",
   "execution_count": 38,
   "metadata": {
    "deletable": false,
    "editable": false,
    "nbgrader": {
     "cell_type": "code",
     "checksum": "3f6216ffa66b9b6823855cab87b62775",
     "grade": true,
     "grade_id": "ex4_5",
     "locked": true,
     "points": 0.75,
     "schema_version": 3,
     "solution": false,
     "task": false
    }
   },
   "outputs": [],
   "source": [
    "# LEAVE BLANK"
   ]
  },
  {
   "cell_type": "markdown",
   "metadata": {
    "deletable": false,
    "editable": false,
    "nbgrader": {
     "cell_type": "markdown",
     "checksum": "62622ab039dfa78b132a17f859cb298d",
     "grade": false,
     "grade_id": "cell-90cb157b28bee5c7",
     "locked": true,
     "schema_version": 3,
     "solution": false,
     "task": false
    }
   },
   "source": [
    "Well done! \n",
    "\n",
    "You now have the code to make a request to the API for a given character, to extract the link to the wiki webpage for that character, to request the HTML code underlying that webpage, to identify the link to the website that stores the IN COMIC FULL REPORT and finally to extract different character attributes from the website.\n",
    "\n",
    "Let's now take a look at the different characters in a given series.\n",
    "\n",
    "<div class=\"alert alert-info\">Create a new variable called <i>series_title</i> to store the name of a comics series of your choosing in <b>string</b> form. </div>"
   ]
  },
  {
   "cell_type": "code",
   "execution_count": 39,
   "metadata": {
    "deletable": false,
    "nbgrader": {
     "cell_type": "code",
     "checksum": "f730d78c83b8c1c82fc870c30ce73db2",
     "grade": false,
     "grade_id": "cell-b009fe7a82f15936",
     "locked": false,
     "schema_version": 3,
     "solution": true,
     "task": false
    }
   },
   "outputs": [],
   "source": [
    "series_title = 'Venom'"
   ]
  },
  {
   "cell_type": "markdown",
   "metadata": {
    "deletable": false,
    "editable": false,
    "nbgrader": {
     "cell_type": "markdown",
     "checksum": "97942009512607976877fae32b6f9d9a",
     "grade": false,
     "grade_id": "cell-bdfd2b1ec146839",
     "locked": true,
     "schema_version": 3,
     "solution": false,
     "task": false
    }
   },
   "source": [
    "Run the following cell to check that you don't forget to ceate this variable. You can run it as many times as you want, as long as you **don't modify it**."
   ]
  },
  {
   "cell_type": "code",
   "execution_count": 40,
   "metadata": {
    "deletable": false,
    "editable": false,
    "nbgrader": {
     "cell_type": "code",
     "checksum": "f88cc73d7ae0fc74677417faf801f897",
     "grade": true,
     "grade_id": "cell-f22433e85d27e84",
     "locked": true,
     "points": 0,
     "schema_version": 3,
     "solution": false,
     "task": false
    }
   },
   "outputs": [],
   "source": [
    "from nose.tools import assert_true, assert_is_instance, assert_equal\n",
    "\n",
    "# check that you created the variable series_title\n",
    "assert_true(series_title)\n",
    "\n",
    "# check that series_title is of correct type\n",
    "assert_is_instance(series_title, str)"
   ]
  },
  {
   "cell_type": "markdown",
   "metadata": {},
   "source": [
    "First thing we need in order to extract information about our series of choice is to identify its ID. For that purpose, we are first going to make a generic get request to the ```series``` endpoint using the title defined above.\n",
    "\n",
    "<div class=\"alert alert-info\"><b>Exercise 5 </b>Write the code to make a get request to the <i>series</i> endpoint to extract information about the given series. Store your response in <b>json</b> format in a new variable called <i>response_series</i>.</div>"
   ]
  },
  {
   "cell_type": "code",
   "execution_count": 41,
   "metadata": {
    "deletable": false,
    "nbgrader": {
     "cell_type": "code",
     "checksum": "b0c43be414309e1e17af6f6d28aa8ece",
     "grade": false,
     "grade_id": "cell-5192d5ea1a7572c7",
     "locked": false,
     "schema_version": 3,
     "solution": true,
     "task": false
    }
   },
   "outputs": [],
   "source": [
    "endpoint_series = '/v1/public/series'\n",
    "url_series = base_url + endpoint_series\n",
    "response_series = rq.get(url_series, params={'apikey': publickey, 'ts': ts, 'hash': md5hash, 'title': series_title}).json()"
   ]
  },
  {
   "cell_type": "markdown",
   "metadata": {
    "deletable": false,
    "editable": false,
    "nbgrader": {
     "cell_type": "markdown",
     "checksum": "f8dc241dcdd846fd1a918c7d47fe7926",
     "grade": false,
     "grade_id": "cell-3f37d0350e43552",
     "locked": true,
     "schema_version": 3,
     "solution": false,
     "task": false
    }
   },
   "source": [
    "The following cells run the checks on your code. Please **don't write any code here**. Just leave them as they are."
   ]
  },
  {
   "cell_type": "code",
   "execution_count": 42,
   "metadata": {
    "deletable": false,
    "editable": false,
    "nbgrader": {
     "cell_type": "code",
     "checksum": "6cc83d97a04427dc2cd98c4eca194d55",
     "grade": true,
     "grade_id": "ex5_1",
     "locked": true,
     "points": 0.25,
     "schema_version": 3,
     "solution": false,
     "task": false
    }
   },
   "outputs": [],
   "source": [
    "# LEAVE BLANK"
   ]
  },
  {
   "cell_type": "code",
   "execution_count": 43,
   "metadata": {
    "deletable": false,
    "editable": false,
    "nbgrader": {
     "cell_type": "code",
     "checksum": "f3ff0a2078e389a3e2a70c373fc83f06",
     "grade": true,
     "grade_id": "ex5_2",
     "locked": true,
     "points": 0.75,
     "schema_version": 3,
     "solution": false,
     "task": false
    }
   },
   "outputs": [],
   "source": [
    "# LEAVE BLANK"
   ]
  },
  {
   "cell_type": "markdown",
   "metadata": {
    "deletable": false,
    "editable": false,
    "nbgrader": {
     "cell_type": "markdown",
     "checksum": "6d4d8ca355838305bbab7d43428f0470",
     "grade": false,
     "grade_id": "cell-2c826be89ce6e32d",
     "locked": true,
     "schema_version": 3,
     "solution": false,
     "task": false
    }
   },
   "source": [
    "<div class=\"alert alert-info\">Create a new variable called <i>series_id</i> to store the id the series of your choosing in <b>int</b> form. </div>"
   ]
  },
  {
   "cell_type": "code",
   "execution_count": 44,
   "metadata": {
    "deletable": false,
    "nbgrader": {
     "cell_type": "code",
     "checksum": "fea59351e1607833e14280567e542197",
     "grade": false,
     "grade_id": "cell-58384a5ecd5970c0",
     "locked": false,
     "schema_version": 3,
     "solution": true,
     "task": false
    }
   },
   "outputs": [],
   "source": [
    "series_id = 13911"
   ]
  },
  {
   "cell_type": "markdown",
   "metadata": {
    "deletable": false,
    "editable": false,
    "nbgrader": {
     "cell_type": "markdown",
     "checksum": "0b602d4a23c5c66225f4fd59afe9e914",
     "grade": false,
     "grade_id": "cell-bfdf2b1ec146839",
     "locked": true,
     "schema_version": 3,
     "solution": false,
     "task": false
    }
   },
   "source": [
    "Run the following cell to check that you don't forget to ceate this variable. You can run it as many times as you want, as long as you **don't modify it**."
   ]
  },
  {
   "cell_type": "code",
   "execution_count": 45,
   "metadata": {
    "deletable": false,
    "editable": false,
    "nbgrader": {
     "cell_type": "code",
     "checksum": "d5bf78f513e70cc651d8bf15ca93aae1",
     "grade": true,
     "grade_id": "cell-f2433e805d27e84",
     "locked": true,
     "points": 0,
     "schema_version": 3,
     "solution": false,
     "task": false
    }
   },
   "outputs": [],
   "source": [
    "from nose.tools import assert_true, assert_is_instance, assert_equal\n",
    "\n",
    "# check that you created the variable series_id\n",
    "assert_true(series_id)\n",
    "\n",
    "# check that series_id is of correct type\n",
    "assert_is_instance(series_id, int)"
   ]
  },
  {
   "cell_type": "markdown",
   "metadata": {
    "deletable": false,
    "editable": false,
    "nbgrader": {
     "cell_type": "markdown",
     "checksum": "5d9a672b36a449098b329561d50a0700",
     "grade": false,
     "grade_id": "cell-1299f93fd3ff0a41",
     "locked": true,
     "schema_version": 3,
     "solution": false,
     "task": false
    }
   },
   "source": [
    "Now that you have identified the id, let's extract information about the different characters tha appear in your chosen series.\n",
    "\n",
    "<div class=\"alert alert-info\"><b>Exercise 6 </b>Write the code to make a get request to fetch the list of characters which appear in your chosen series. Store your response in <b>json</b> format in a new variable called <i>response_characters</i>.</div>\n",
    "\n",
    "<div class=\"alert alert-warning\">Note that Marvel's API returns information in batches of 100 characters at most. Make a single request, so that if the number of characters in your chosen series is larger than 100 you only retrieve the first 100.</div>"
   ]
  },
  {
   "cell_type": "code",
   "execution_count": 46,
   "metadata": {
    "deletable": false,
    "nbgrader": {
     "cell_type": "code",
     "checksum": "34f97b83af3dde07a2d01744172a3107",
     "grade": false,
     "grade_id": "cell-812b7345b4b7cdda",
     "locked": false,
     "schema_version": 3,
     "solution": true,
     "task": false
    }
   },
   "outputs": [],
   "source": [
    "endpoint1 = endpoint_series + '/' + str(series_id) + '/' + 'characters'\n",
    "url_characters_in_series = base_url + endpoint1\n",
    "\n",
    "response_characters = rq.get(url_characters_in_series, params={'apikey': publickey, 'ts': ts, 'hash': md5hash, 'limit': 100}).json()"
   ]
  },
  {
   "cell_type": "markdown",
   "metadata": {
    "deletable": false,
    "editable": false,
    "nbgrader": {
     "cell_type": "markdown",
     "checksum": "9a16cd1fe90d4e5abb74f79f44b8defa",
     "grade": false,
     "grade_id": "cell-3f370350e43552",
     "locked": true,
     "schema_version": 3,
     "solution": false,
     "task": false
    }
   },
   "source": [
    "The following cells run the checks on your code. Please **don't write any code here**. Just leave them as they are."
   ]
  },
  {
   "cell_type": "code",
   "execution_count": 47,
   "metadata": {
    "deletable": false,
    "editable": false,
    "nbgrader": {
     "cell_type": "code",
     "checksum": "0721ff545743f7947b68cf14730668ce",
     "grade": true,
     "grade_id": "ex6_1",
     "locked": true,
     "points": 0.5,
     "schema_version": 3,
     "solution": false,
     "task": false
    }
   },
   "outputs": [],
   "source": [
    "# LEAVE BLANK"
   ]
  },
  {
   "cell_type": "code",
   "execution_count": 48,
   "metadata": {
    "deletable": false,
    "editable": false,
    "nbgrader": {
     "cell_type": "code",
     "checksum": "9297bc8ba607a1f9526ed68ae5a6a03a",
     "grade": true,
     "grade_id": "ex6_2",
     "locked": true,
     "points": 1,
     "schema_version": 3,
     "solution": false,
     "task": false
    }
   },
   "outputs": [],
   "source": [
    "# LEAVE BLANK"
   ]
  },
  {
   "cell_type": "markdown",
   "metadata": {
    "deletable": false,
    "editable": false,
    "nbgrader": {
     "cell_type": "markdown",
     "checksum": "8bf1cebbaa5de0bed09ffc007b0a73f4",
     "grade": false,
     "grade_id": "cell-f98a19aeec182ab1",
     "locked": true,
     "schema_version": 3,
     "solution": false,
     "task": false
    }
   },
   "source": [
    "In order to retrieve information about each of the characters separately, let's store each URI separately.\n",
    "\n",
    "<div class=\"alert alert-info\"><b>Exercise 7 </b>Write the code to identify the names and the wiki URLs corresponding to each character in your series. Store the results in <b>list</b> form in new variables called <i>names</i> and <i>url_wikis</i>, respectively. The list have already been initialized for you</div>"
   ]
  },
  {
   "cell_type": "code",
   "execution_count": 49,
   "metadata": {
    "deletable": false,
    "nbgrader": {
     "cell_type": "code",
     "checksum": "b484dc6554a7234dddb78b86af8ebc49",
     "grade": false,
     "grade_id": "cell-a0a992c82bcfef28",
     "locked": false,
     "schema_version": 3,
     "solution": true,
     "task": false
    }
   },
   "outputs": [],
   "source": [
    "names = []\n",
    "url_wikis = []\n",
    "\n",
    "for i in response_characters['data']['results']:\n",
    "    names.append(i['name'])\n",
    "    url_wikis.append(i['urls'][1]['url'].split('?')[0])"
   ]
  },
  {
   "cell_type": "markdown",
   "metadata": {
    "deletable": false,
    "editable": false,
    "nbgrader": {
     "cell_type": "markdown",
     "checksum": "ead91c1aab1dbe66956f68ad825acde2",
     "grade": false,
     "grade_id": "cell-3f70350e43552",
     "locked": true,
     "schema_version": 3,
     "solution": false,
     "task": false
    }
   },
   "source": [
    "The following cells run the checks on your code. Please **don't write any code here**. Just leave them as they are."
   ]
  },
  {
   "cell_type": "code",
   "execution_count": 50,
   "metadata": {
    "deletable": false,
    "editable": false,
    "nbgrader": {
     "cell_type": "code",
     "checksum": "834fd2d2a52a91cd13a376a05a80a2d8",
     "grade": true,
     "grade_id": "ex7_1",
     "locked": true,
     "points": 0.25,
     "schema_version": 3,
     "solution": false,
     "task": false
    }
   },
   "outputs": [],
   "source": [
    "# LEAVE BLANK"
   ]
  },
  {
   "cell_type": "code",
   "execution_count": 51,
   "metadata": {
    "deletable": false,
    "editable": false,
    "nbgrader": {
     "cell_type": "code",
     "checksum": "428486e51640b5e14a2c35b8f9326b22",
     "grade": true,
     "grade_id": "ex7_2",
     "locked": true,
     "points": 0.25,
     "schema_version": 3,
     "solution": false,
     "task": false
    }
   },
   "outputs": [],
   "source": [
    "# LEAVE BLANK"
   ]
  },
  {
   "cell_type": "markdown",
   "metadata": {},
   "source": [
    "<div class=\"alert alert-info\"><b>Exercise 8 </b>Write the code to retrieve the height, weight, gender, eyecolor, haircolor and groups (the number, not the list) of each of the characters in your chosen series. Store these values in lists called <i>height</i>, <i>weight</i>, <i>gender</i>, <i>eyecolor</i>, <i>haircolor</i> and <i>groups</i>, respectively. For those characters for which no IN COMICS FULL REPORT is available, use a <b>None</b>.</div>\n",
    "\n",
    "<div class=\"alert alert-warning\">Note that you may need to re-define some of the functions defined above in order to retrieve all the information properly. Make sure to modify this code in the cells above, don't redefine any function here. All your functions should be as general as possible.</div>\n",
    "\n",
    "<div class=\"alert alert-warning\">You'll notice that sometimes, even if the IN COMIC FULL REPORT tab exists, you are not able to retrieve all the information. That's fine, as long as your code is correct.</div>"
   ]
  },
  {
   "cell_type": "code",
   "execution_count": 52,
   "metadata": {
    "deletable": false,
    "nbgrader": {
     "cell_type": "code",
     "checksum": "36433c89e4428fddf3781164fb9fdbaf",
     "grade": false,
     "grade_id": "cell-58559eeb08f1e9cc",
     "locked": false,
     "schema_version": 3,
     "solution": true,
     "task": false
    }
   },
   "outputs": [],
   "source": [
    "height = []\n",
    "weight = []\n",
    "gender = []\n",
    "eyecolor = []\n",
    "haircolor = []\n",
    "groups = []\n",
    "\n",
    "for i in url_wikis:\n",
    "    if (get_comics_report(get_soup(i))) == None:\n",
    "        x = get_soup(i)\n",
    "        height.append(get_height(x))\n",
    "        weight.append(get_weight(x))\n",
    "        gender.append(get_gender(x))\n",
    "        eyecolor.append(get_eyecolor(x))\n",
    "        haircolor.append(get_haircolor(x))\n",
    "        groups.append(get_groups(x))\n",
    "    else:\n",
    "        y = get_comics_report(get_soup(i))\n",
    "        z = get_soup(y)\n",
    "        height.append(get_height(z))\n",
    "        weight.append(get_weight(z))\n",
    "        gender.append(get_gender(z))\n",
    "        eyecolor.append(get_eyecolor(z))\n",
    "        haircolor.append(get_haircolor(z))\n",
    "        groups.append(get_groups(z))"
   ]
  },
  {
   "cell_type": "markdown",
   "metadata": {
    "deletable": false,
    "editable": false,
    "nbgrader": {
     "cell_type": "markdown",
     "checksum": "b086ae644d20420f3e81562c9926275c",
     "grade": false,
     "grade_id": "cell-3f37035e43552",
     "locked": true,
     "schema_version": 3,
     "solution": false,
     "task": false
    }
   },
   "source": [
    "The following cells run the checks on your code. Please **don't write any code here**. Just leave them as they are."
   ]
  },
  {
   "cell_type": "code",
   "execution_count": 53,
   "metadata": {
    "deletable": false,
    "editable": false,
    "nbgrader": {
     "cell_type": "code",
     "checksum": "baca0f85755e2440f25fd0dd44b97751",
     "grade": true,
     "grade_id": "ex8_height_1",
     "locked": true,
     "points": 0.05,
     "schema_version": 3,
     "solution": false,
     "task": false
    }
   },
   "outputs": [],
   "source": [
    "# LEAVE BLANK"
   ]
  },
  {
   "cell_type": "code",
   "execution_count": 54,
   "metadata": {
    "deletable": false,
    "editable": false,
    "nbgrader": {
     "cell_type": "code",
     "checksum": "7f40b9d2a37dec362485e1e063cc3c85",
     "grade": true,
     "grade_id": "ex8_height_2",
     "locked": true,
     "points": 0.05,
     "schema_version": 3,
     "solution": false,
     "task": false
    }
   },
   "outputs": [],
   "source": [
    "# LEAVE BLANK"
   ]
  },
  {
   "cell_type": "code",
   "execution_count": 55,
   "metadata": {
    "deletable": false,
    "editable": false,
    "nbgrader": {
     "cell_type": "code",
     "checksum": "f32d5a3968f61209a7f26ed45bbb3a76",
     "grade": true,
     "grade_id": "ex8_height_3",
     "locked": true,
     "points": 0.05,
     "schema_version": 3,
     "solution": false,
     "task": false
    }
   },
   "outputs": [],
   "source": [
    "# LEAVE BLANK"
   ]
  },
  {
   "cell_type": "code",
   "execution_count": 56,
   "metadata": {
    "deletable": false,
    "editable": false,
    "nbgrader": {
     "cell_type": "code",
     "checksum": "03909790dbbd65a78b1a04d8ada6856a",
     "grade": true,
     "grade_id": "ex8_weight_1",
     "locked": true,
     "points": 0.05,
     "schema_version": 3,
     "solution": false,
     "task": false
    }
   },
   "outputs": [],
   "source": [
    "# LEAVE BLANK"
   ]
  },
  {
   "cell_type": "code",
   "execution_count": 57,
   "metadata": {
    "deletable": false,
    "editable": false,
    "nbgrader": {
     "cell_type": "code",
     "checksum": "c8427e5474ee203ea6fcfc1b3fc53f29",
     "grade": true,
     "grade_id": "ex8_weight_2",
     "locked": true,
     "points": 0.05,
     "schema_version": 3,
     "solution": false,
     "task": false
    }
   },
   "outputs": [],
   "source": [
    "# LEAVE BLANK"
   ]
  },
  {
   "cell_type": "code",
   "execution_count": 58,
   "metadata": {
    "deletable": false,
    "editable": false,
    "nbgrader": {
     "cell_type": "code",
     "checksum": "39aef9203801a2ec04fbeba483e1c4c9",
     "grade": true,
     "grade_id": "ex8_weight_3",
     "locked": true,
     "points": 0.05,
     "schema_version": 3,
     "solution": false,
     "task": false
    }
   },
   "outputs": [],
   "source": [
    "# LEAVE BLANK"
   ]
  },
  {
   "cell_type": "code",
   "execution_count": 59,
   "metadata": {
    "deletable": false,
    "editable": false,
    "nbgrader": {
     "cell_type": "code",
     "checksum": "c6afdc8e20e02895f0f5c4ebddf2ce9a",
     "grade": true,
     "grade_id": "ex8_gender_1",
     "locked": true,
     "points": 0.05,
     "schema_version": 3,
     "solution": false,
     "task": false
    }
   },
   "outputs": [],
   "source": [
    "# LEAVE BLANK"
   ]
  },
  {
   "cell_type": "code",
   "execution_count": 60,
   "metadata": {
    "deletable": false,
    "editable": false,
    "nbgrader": {
     "cell_type": "code",
     "checksum": "cf59c695c5081cb669a330daa4b2c88d",
     "grade": true,
     "grade_id": "ex8_gender_2",
     "locked": true,
     "points": 0.05,
     "schema_version": 3,
     "solution": false,
     "task": false
    }
   },
   "outputs": [],
   "source": [
    "# LEAVE BLANK"
   ]
  },
  {
   "cell_type": "code",
   "execution_count": 61,
   "metadata": {
    "deletable": false,
    "editable": false,
    "nbgrader": {
     "cell_type": "code",
     "checksum": "cb0a498c32f0186e7b6bfabec467477c",
     "grade": true,
     "grade_id": "ex8_gender_3",
     "locked": true,
     "points": 0.05,
     "schema_version": 3,
     "solution": false,
     "task": false
    }
   },
   "outputs": [],
   "source": [
    "# LEAVE BLANK"
   ]
  },
  {
   "cell_type": "code",
   "execution_count": 62,
   "metadata": {
    "deletable": false,
    "editable": false,
    "nbgrader": {
     "cell_type": "code",
     "checksum": "69ee2bcd930e05192c210fdb928df19b",
     "grade": true,
     "grade_id": "ex8_eyecolor",
     "locked": true,
     "points": 0.05,
     "schema_version": 3,
     "solution": false,
     "task": false
    }
   },
   "outputs": [],
   "source": [
    "# LEAVE BLANK"
   ]
  },
  {
   "cell_type": "code",
   "execution_count": 63,
   "metadata": {
    "deletable": false,
    "editable": false,
    "nbgrader": {
     "cell_type": "code",
     "checksum": "fb271513089d7afd0aa97a21cf145c42",
     "grade": true,
     "grade_id": "ex8_eyecolor_2",
     "locked": true,
     "points": 0.05,
     "schema_version": 3,
     "solution": false,
     "task": false
    }
   },
   "outputs": [],
   "source": [
    "# LEAVE BLANK"
   ]
  },
  {
   "cell_type": "code",
   "execution_count": 64,
   "metadata": {
    "deletable": false,
    "editable": false,
    "nbgrader": {
     "cell_type": "code",
     "checksum": "6cef75f023801a6480537f466d2a675a",
     "grade": true,
     "grade_id": "ex8_eyecolor_3",
     "locked": true,
     "points": 0.05,
     "schema_version": 3,
     "solution": false,
     "task": false
    }
   },
   "outputs": [],
   "source": [
    "# LEAVE BLANK"
   ]
  },
  {
   "cell_type": "code",
   "execution_count": 65,
   "metadata": {
    "deletable": false,
    "editable": false,
    "nbgrader": {
     "cell_type": "code",
     "checksum": "9c9a24652993ac6ffcb8d9d610570645",
     "grade": true,
     "grade_id": "ex8_haircolor",
     "locked": true,
     "points": 0.05,
     "schema_version": 3,
     "solution": false,
     "task": false
    }
   },
   "outputs": [],
   "source": [
    "# LEAVE BLANK"
   ]
  },
  {
   "cell_type": "code",
   "execution_count": 66,
   "metadata": {
    "deletable": false,
    "editable": false,
    "nbgrader": {
     "cell_type": "code",
     "checksum": "e30ce8d5b92e73b9c38aa2fb352e7211",
     "grade": true,
     "grade_id": "ex8_haircolor_2",
     "locked": true,
     "points": 0.05,
     "schema_version": 3,
     "solution": false,
     "task": false
    }
   },
   "outputs": [],
   "source": [
    "# LEAVE BLANK"
   ]
  },
  {
   "cell_type": "code",
   "execution_count": 67,
   "metadata": {
    "deletable": false,
    "editable": false,
    "nbgrader": {
     "cell_type": "code",
     "checksum": "e6efd18e3b9d0b0d35651e9ac856be0d",
     "grade": true,
     "grade_id": "ex8_haircolor_3",
     "locked": true,
     "points": 0.05,
     "schema_version": 3,
     "solution": false,
     "task": false
    }
   },
   "outputs": [],
   "source": [
    "# LEAVE BLANK"
   ]
  },
  {
   "cell_type": "code",
   "execution_count": 68,
   "metadata": {
    "deletable": false,
    "editable": false,
    "nbgrader": {
     "cell_type": "code",
     "checksum": "f335fee10909e3c550adbd32edc281a6",
     "grade": true,
     "grade_id": "ex8_groups",
     "locked": true,
     "points": 0.05,
     "schema_version": 3,
     "solution": false,
     "task": false
    }
   },
   "outputs": [],
   "source": [
    "# LEAVE BLANK"
   ]
  },
  {
   "cell_type": "code",
   "execution_count": 69,
   "metadata": {
    "deletable": false,
    "editable": false,
    "nbgrader": {
     "cell_type": "code",
     "checksum": "ca445e106c8dbdbce3145de97f386c17",
     "grade": true,
     "grade_id": "ex8_groups_2",
     "locked": true,
     "points": 0.1,
     "schema_version": 3,
     "solution": false,
     "task": false
    }
   },
   "outputs": [],
   "source": [
    "# LEAVE BLANK"
   ]
  },
  {
   "cell_type": "code",
   "execution_count": 70,
   "metadata": {
    "deletable": false,
    "editable": false,
    "nbgrader": {
     "cell_type": "code",
     "checksum": "42eb0306c18402b4b92e05841d7fbc2e",
     "grade": true,
     "grade_id": "ex8_groups_3",
     "locked": true,
     "points": 0.1,
     "schema_version": 3,
     "solution": false,
     "task": false
    }
   },
   "outputs": [],
   "source": [
    "# LEAVE BLANK"
   ]
  },
  {
   "cell_type": "markdown",
   "metadata": {
    "deletable": false,
    "editable": false,
    "nbgrader": {
     "cell_type": "markdown",
     "checksum": "d1744c7737fb586097c9aba8f8ec5438",
     "grade": false,
     "grade_id": "cell-3221496621ae4686",
     "locked": true,
     "schema_version": 3,
     "solution": false,
     "task": false
    }
   },
   "source": [
    "<div class=\"alert alert-info\"><b>Exercise 9 </b>Write the code to save the data above to a DataFrame called <i>df</i>. The names of the different columns should be equal to the those of the lists above: <i>names</i>, <i>height</i>, <i>weight</i>, <i>gender</i>, <i>eyecolor</i>, <i>haircolor</i> and <i>groups</i>.</div>"
   ]
  },
  {
   "cell_type": "code",
   "execution_count": 71,
   "metadata": {
    "deletable": false,
    "nbgrader": {
     "cell_type": "code",
     "checksum": "60fcf2229434ca6615720af010dce725",
     "grade": false,
     "grade_id": "cell-00985ea68bdd31dc",
     "locked": false,
     "schema_version": 3,
     "solution": true,
     "task": false
    }
   },
   "outputs": [],
   "source": [
    "import pandas as pd \n",
    "\n",
    "data = {'names': names, 'height': height, 'weight': weight, 'gender': gender, \n",
    "        'eyecolor': eyecolor, 'haircolor': haircolor, 'groups': groups}\n",
    "\n",
    "df = pd.DataFrame(data=data)"
   ]
  },
  {
   "cell_type": "markdown",
   "metadata": {
    "deletable": false,
    "editable": false,
    "nbgrader": {
     "cell_type": "markdown",
     "checksum": "b35c404d635c69ea1cdbeccb7b88b702",
     "grade": false,
     "grade_id": "cell-9c4f20f922254e6f",
     "locked": true,
     "schema_version": 3,
     "solution": false,
     "task": false
    }
   },
   "source": [
    "The following cell runs additional checks to your code. Please **don't write any code here**. Just leave it as it is."
   ]
  },
  {
   "cell_type": "code",
   "execution_count": 72,
   "metadata": {
    "deletable": false,
    "editable": false,
    "nbgrader": {
     "cell_type": "code",
     "checksum": "fc361867c2817d1d338807f559b979f5",
     "grade": true,
     "grade_id": "ex9_1",
     "locked": true,
     "points": 0.1,
     "schema_version": 3,
     "solution": false,
     "task": false
    }
   },
   "outputs": [],
   "source": [
    "# LEAVE BLANK"
   ]
  },
  {
   "cell_type": "code",
   "execution_count": 73,
   "metadata": {
    "deletable": false,
    "editable": false,
    "nbgrader": {
     "cell_type": "code",
     "checksum": "170ba0d6aff920e5f57e97b1a476cfe5",
     "grade": true,
     "grade_id": "ex9_2",
     "locked": true,
     "points": 0.15,
     "schema_version": 3,
     "solution": false,
     "task": false
    }
   },
   "outputs": [],
   "source": [
    "# LEAVE BLANK"
   ]
  },
  {
   "cell_type": "markdown",
   "metadata": {
    "deletable": false,
    "editable": false,
    "nbgrader": {
     "cell_type": "markdown",
     "checksum": "5dccf7207ee4b41c75c5a923d7fb4ab5",
     "grade": false,
     "grade_id": "cell-27bf659c9d2bc6c5",
     "locked": true,
     "schema_version": 3,
     "solution": false,
     "task": false
    }
   },
   "source": [
    "Information about the height and weight of each character is provided in inches and pounds, respectively. \n",
    "\n",
    "<div class=\"alert alert-info\"><b>Exercise 10 </b>Write the code to create two new columns, <i>height (cm)</i> and <i>weight (kg)</i> that store the information regarding the height and weight of each character in cm and kg, respectively. Assume that 1 lbs = 0.453592 kg and 1 inch = 2.54 cm. When you are done creating the new columns, make sure to delete the existing ones.</div>"
   ]
  },
  {
   "cell_type": "code",
   "execution_count": 74,
   "metadata": {
    "deletable": false,
    "nbgrader": {
     "cell_type": "code",
     "checksum": "ce7050b6ef00c9f956529d4f4d6a0b54",
     "grade": false,
     "grade_id": "cell-44135d2e79033f33",
     "locked": false,
     "schema_version": 3,
     "solution": true,
     "task": false
    }
   },
   "outputs": [],
   "source": [
    "df['height (cm)'] = (df['height'] * 12 * 2.54)\n",
    "df['weight (kg)'] = (df['weight'] * 0.453592)"
   ]
  },
  {
   "cell_type": "code",
   "execution_count": 76,
   "metadata": {},
   "outputs": [],
   "source": [
    "df.drop(['height', 'weight'], axis = 1, inplace = True)"
   ]
  },
  {
   "cell_type": "code",
   "execution_count": null,
   "metadata": {
    "deletable": false,
    "editable": false,
    "nbgrader": {
     "cell_type": "code",
     "checksum": "cdea5b5e8244b120724937c985badf83",
     "grade": true,
     "grade_id": "ex10_1",
     "locked": true,
     "points": 0.125,
     "schema_version": 3,
     "solution": false,
     "task": false
    }
   },
   "outputs": [],
   "source": [
    "# LEAVE BLANK"
   ]
  },
  {
   "cell_type": "code",
   "execution_count": null,
   "metadata": {
    "deletable": false,
    "editable": false,
    "nbgrader": {
     "cell_type": "code",
     "checksum": "29a94f70c7aaa4a9afa4fc9bc04785f5",
     "grade": true,
     "grade_id": "ex10_2",
     "locked": true,
     "points": 0.125,
     "schema_version": 3,
     "solution": false,
     "task": false
    }
   },
   "outputs": [],
   "source": [
    "# LEAVE BLANK"
   ]
  }
 ],
 "metadata": {
  "kernelspec": {
   "display_name": "Python 3",
   "language": "python",
   "name": "python3"
  },
  "language_info": {
   "codemirror_mode": {
    "name": "ipython",
    "version": 3
   },
   "file_extension": ".py",
   "mimetype": "text/x-python",
   "name": "python",
   "nbconvert_exporter": "python",
   "pygments_lexer": "ipython3",
   "version": "3.7.3"
  }
 },
 "nbformat": 4,
 "nbformat_minor": 4
}
